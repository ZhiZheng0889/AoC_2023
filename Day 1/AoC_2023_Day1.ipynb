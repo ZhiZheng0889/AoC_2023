{
  "nbformat": 4,
  "nbformat_minor": 0,
  "metadata": {
    "colab": {
      "provenance": []
    },
    "kernelspec": {
      "name": "python3",
      "display_name": "Python 3"
    },
    "language_info": {
      "name": "python"
    }
  },
  "cells": [
    {
      "cell_type": "code",
      "source": [
        "import re\n",
        "\n",
        "def load_text(filename):\n",
        "    \"\"\"Loads text from a given file.\"\"\"\n",
        "    with open(filename, \"r\") as file:\n",
        "        return file.read()\n",
        "\n",
        "def get_str2num_mapping():\n",
        "    \"\"\"Returns the mapping of words to their respective encoded representations.\"\"\"\n",
        "    return {\n",
        "        \"one\": \"o1e\",\n",
        "        \"two\": \"t2o\",\n",
        "        \"three\": \"t3e\",\n",
        "        \"four\": \"f4r\",\n",
        "        \"five\": \"f5e\",\n",
        "        \"six\": \"s6x\",\n",
        "        \"seven\": \"s7n\",\n",
        "        \"eight\": \"e8t\",\n",
        "        \"nine\": \"n9e\",\n",
        "    }\n",
        "\n",
        "def replace_words(text, str2num):\n",
        "    \"\"\"Replaces occurrences of words in the text with their encoded forms.\"\"\"\n",
        "    for word, encoded in str2num.items():\n",
        "        text = text.replace(word, encoded)\n",
        "    return text\n",
        "\n",
        "def extract_digits_and_sum(line):\n",
        "    \"\"\"Extracts the first and last digits from a line and returns their sum.\"\"\"\n",
        "    digits = re.sub(r\"[A-z]\", \"\", line)\n",
        "    return int(digits[0] + digits[-1])\n",
        "\n",
        "def calibration(text):\n",
        "    \"\"\"Calculates the sum of the first and last digits of each line in the text.\"\"\"\n",
        "    return sum(extract_digits_and_sum(line) for line in text.split(\"\\n\") if line.strip())\n",
        "\n",
        "def main():\n",
        "    filename = \"/content/AoC_2023_Day1.txt\"\n",
        "\n",
        "    # Load the text from the file\n",
        "    text = load_text(filename)\n",
        "\n",
        "    # Part 1: Calculate calibration based on the original text\n",
        "    original_calibration = calibration(text)\n",
        "    print(\"Original Calibration:\", original_calibration)\n",
        "\n",
        "    # Get the word-to-encoded form mapping\n",
        "    str2num = get_str2num_mapping()\n",
        "\n",
        "    # Part 2: Replace words in the text and calculate the calibration\n",
        "    replaced_text = replace_words(text, str2num)\n",
        "    replaced_calibration = calibration(replaced_text)\n",
        "    print(\"Replaced Calibration:\", replaced_calibration)\n",
        "\n",
        "if __name__ == \"__main__\":\n",
        "    main()\n"
      ],
      "metadata": {
        "colab": {
          "base_uri": "https://localhost:8080/"
        },
        "id": "Rfpk0_qKew79",
        "outputId": "c76596ce-7a9c-447f-ac30-15d181dd1ed9"
      },
      "execution_count": 26,
      "outputs": [
        {
          "output_type": "stream",
          "name": "stdout",
          "text": [
            "Original Calibration: 54940\n",
            "Replaced Calibration: 54208\n"
          ]
        }
      ]
    },
    {
      "cell_type": "code",
      "source": [],
      "metadata": {
        "colab": {
          "base_uri": "https://localhost:8080/"
        },
        "id": "B_c0BKmrfhRs",
        "outputId": "da63cb95-567d-4d23-9eb6-644cee8a3ff1"
      },
      "execution_count": 24,
      "outputs": [
        {
          "output_type": "stream",
          "name": "stdout",
          "text": [
            "54940\n",
            "54208\n"
          ]
        }
      ]
    }
  ]
}