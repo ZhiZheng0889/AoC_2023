{
  "cells": [
    {
      "cell_type": "code",
      "source": [
        "def load_grid(file_path):\n",
        "    \"\"\"Reads the grid from the input file and returns it as a list of strings.\"\"\"\n",
        "    with open(file_path) as file:\n",
        "        return file.read().strip().split()\n",
        "\n",
        "def find_start_position(grid):\n",
        "    \"\"\"Finds the starting position 'S' in the grid and returns its coordinates as a set.\"\"\"\n",
        "    return {(row.index(\"S\"), row_index) for row_index, row in enumerate(grid) if \"S\" in row}\n",
        "\n",
        "def is_move_valid(grid, current_position, next_position, visited_positions):\n",
        "    \"\"\"Checks if a move from current_position to next_position is valid based on pipe connectivity and bounds.\"\"\"\n",
        "    current_x, current_y = current_position\n",
        "    next_x, next_y = next_position\n",
        "\n",
        "    # Ensure the next position is within the grid bounds\n",
        "    if not (0 <= next_y < len(grid) and 0 <= next_x < len(grid[next_y])):\n",
        "        return False\n",
        "\n",
        "    # Ensure the next position has not been visited yet\n",
        "    if next_position in visited_positions:\n",
        "        return False\n",
        "\n",
        "    # Define valid pipe transitions based on direction of movement\n",
        "    direction_transitions = {\n",
        "        (1, 0): (\"-LFS\", \"-J7\"),   # Move right\n",
        "        (-1, 0): (\"-J7S\", \"-LF\"),  # Move left\n",
        "        (0, 1): (\"|F7S\", \"|LJ\"),   # Move down\n",
        "        (0, -1): (\"|LJS\", \"|F7\"),  # Move up\n",
        "    }\n",
        "\n",
        "    delta_x, delta_y = next_x - current_x, next_y - current_y\n",
        "\n",
        "    # Check if the move is valid according to the pipe types\n",
        "    if (delta_x, delta_y) in direction_transitions:\n",
        "        valid_current_chars, valid_next_chars = direction_transitions[(delta_x, delta_y)]\n",
        "        return grid[current_y][current_x] in valid_current_chars and grid[next_y][next_x] in valid_next_chars\n",
        "\n",
        "    return False\n",
        "\n",
        "def explore_pipe_loop(grid):\n",
        "    \"\"\"Performs BFS to explore the pipe loop from the start position, finds the farthest point, and calculates enclosed area.\"\"\"\n",
        "    start_positions = find_start_position(grid)\n",
        "    visited_positions = set()\n",
        "    exploration_queue = [start_positions]\n",
        "\n",
        "    # Perform BFS to explore the grid\n",
        "    while exploration_queue[-1]:\n",
        "        current_layer = exploration_queue[-1] - visited_positions\n",
        "        visited_positions |= current_layer\n",
        "\n",
        "        next_layer = {\n",
        "            (next_x, next_y) for (current_x, current_y) in current_layer\n",
        "            for next_x, next_y in [(current_x + 1, current_y), (current_x - 1, current_y), (current_x, current_y + 1), (current_x, current_y - 1)]\n",
        "            if is_move_valid(grid, (current_x, current_y), (next_x, next_y), visited_positions)\n",
        "        }\n",
        "\n",
        "        exploration_queue.append(next_layer)\n",
        "\n",
        "    # Calculate the distance to the farthest point\n",
        "    max_steps = len(exploration_queue) - 2\n",
        "\n",
        "    # Calculate the number of tiles enclosed by the loop\n",
        "    enclosed_area = sum(\n",
        "        sum(\n",
        "            grid[row][col] in \"|JLS\"\n",
        "            for col in range(width) if (col, row) in visited_positions\n",
        "        ) % 2\n",
        "        for row in range(len(grid)) for width in range(len(grid[row]))\n",
        "        if (width, row) not in visited_positions\n",
        "    )\n",
        "\n",
        "    return max_steps, enclosed_area\n",
        "\n",
        "def main():\n",
        "    \"\"\"Main function to orchestrate loading the grid, exploring the pipe loop, and outputting the results.\"\"\"\n",
        "    grid = load_grid(\"/content/AoC_2023_Day10.txt\")\n",
        "    max_steps, enclosed_area = explore_pipe_loop(grid)\n",
        "    print(f\"Maximum steps to the farthest point: {max_steps}\")\n",
        "    print(f\"Number of tiles enclosed by the loop: {enclosed_area}\")\n",
        "\n",
        "if __name__ == \"__main__\":\n",
        "    main()\n"
      ],
      "metadata": {
        "id": "ATLW6RFP302d",
        "outputId": "2c2aa3fc-9a57-4078-8c40-0b52481df13d",
        "colab": {
          "base_uri": "https://localhost:8080/"
        }
      },
      "execution_count": 11,
      "outputs": [
        {
          "output_type": "stream",
          "name": "stdout",
          "text": [
            "Maximum steps to the farthest point: 6733\n",
            "Number of tiles enclosed by the loop: 435\n"
          ]
        }
      ]
    }
  ],
  "metadata": {
    "colab": {
      "provenance": []
    },
    "kernelspec": {
      "display_name": "Python 3",
      "name": "python3"
    },
    "language_info": {
      "name": "python"
    }
  },
  "nbformat": 4,
  "nbformat_minor": 0
}