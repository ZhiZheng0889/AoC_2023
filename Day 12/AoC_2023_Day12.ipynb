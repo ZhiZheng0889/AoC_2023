{
  "cells": [
    {
      "cell_type": "code",
      "source": [
        "# Read the input file once\n",
        "with open(\"/content/AoC_2023_Day12.txt\") as f:\n",
        "    lines = f.readlines()\n",
        "\n",
        "def calculate_matches(text, numbers):\n",
        "    # Construct the pattern of states\n",
        "    state_pattern = \".\"\n",
        "    for num in numbers:\n",
        "        state_pattern += \"#\" * int(num) + \".\"\n",
        "\n",
        "    # Initialize the dictionary to track states\n",
        "    state_count = {0: 1}\n",
        "\n",
        "    # Iterate over each character in the text\n",
        "    for char in text:\n",
        "        next_state_count = {}\n",
        "        for state, count in state_count.items():\n",
        "            if char == \"?\":\n",
        "                if state + 1 < len(state_pattern):\n",
        "                    next_state_count[state + 1] = next_state_count.get(state + 1, 0) + count\n",
        "                if state_pattern[state] == \".\":\n",
        "                    next_state_count[state] = next_state_count.get(state, 0) + count\n",
        "            elif char == \".\":\n",
        "                if state + 1 < len(state_pattern) and state_pattern[state + 1] == \".\":\n",
        "                    next_state_count[state + 1] = next_state_count.get(state + 1, 0) + count\n",
        "                if state_pattern[state] == \".\":\n",
        "                    next_state_count[state] = next_state_count.get(state, 0) + count\n",
        "            elif char == \"#\":\n",
        "                if state + 1 < len(state_pattern) and state_pattern[state + 1] == \"#\":\n",
        "                    next_state_count[state + 1] = next_state_count.get(state + 1, 0) + count\n",
        "\n",
        "        state_count = next_state_count\n",
        "\n",
        "    # Return the total matches found\n",
        "    return state_count.get(len(state_pattern) - 1, 0) + state_count.get(len(state_pattern) - 2, 0)\n",
        "\n",
        "# Part 1: Calculate the sum for the original data\n",
        "total_sum_part1 = 0\n",
        "for line in lines:\n",
        "    text, numbers_str = line.strip().split(\" \")\n",
        "    numbers = numbers_str.split(\",\")\n",
        "    total_sum_part1 += calculate_matches(text, numbers)\n",
        "\n",
        "print(f\"Part 1: Total sum of possible arrangements is {total_sum_part1}.\")\n",
        "\n",
        "# Part 2: Calculate the sum for the expanded data\n",
        "total_sum_part2 = 0\n",
        "for line in lines:\n",
        "    text, numbers_str = line.strip().split(\" \")\n",
        "    expanded_text = (5 * (text + \"?\"))[:-1]  # Create the expanded text\n",
        "    expanded_numbers = 5 * numbers_str.split(\",\")  # Create the expanded numbers\n",
        "    total_sum_part2 += calculate_matches(expanded_text, expanded_numbers)\n",
        "\n",
        "print(f\"Part 2: Total sum of possible arrangements after unfolding is {total_sum_part2}.\")\n"
      ],
      "metadata": {
        "colab": {
          "base_uri": "https://localhost:8080/"
        },
        "id": "LUTqIkZpxJhu",
        "outputId": "9fc0bc2d-3e9e-4212-b762-f750be2c7561"
      },
      "execution_count": 4,
      "outputs": [
        {
          "output_type": "stream",
          "name": "stdout",
          "text": [
            "Part 1: Total sum of possible arrangements is 6852.\n",
            "Part 2: Total sum of possible arrangements after unfolding is 8475948826693.\n"
          ]
        }
      ]
    }
  ],
  "metadata": {
    "colab": {
      "provenance": []
    },
    "kernelspec": {
      "display_name": "Python 3",
      "name": "python3"
    },
    "language_info": {
      "name": "python"
    }
  },
  "nbformat": 4,
  "nbformat_minor": 0
}