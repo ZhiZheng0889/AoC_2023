{
  "cells": [
    {
      "cell_type": "code",
      "execution_count": 46,
      "metadata": {
        "colab": {
          "base_uri": "https://localhost:8080/"
        },
        "id": "dOqurbUynrBl",
        "outputId": "c96f8829-7c6c-460e-9245-f8eaea74aaee"
      },
      "outputs": [
        {
          "name": "stdout",
          "output_type": "stream",
          "text": [
            "Day 03 Part 1: 526404\n",
            "Day 03 Part 2: 84399773\n"
          ]
        }
      ],
      "source": [
        "import re\n",
        "\n",
        "# Read the file and store the contents line by line\n",
        "with open('AoC_2023_Day3.txt', 'r') as file:\n",
        "    data = file.read().split('\\n')\n",
        "\n",
        "# Part 1: Calculate the sum of numbers adjacent to any symbol\n",
        "# Find all numbers in the grid along with their coordinates\n",
        "numbers_with_coordinates = [\n",
        "    [n.group(), [(x, n.start() + i) for i in range(len(n.group()))]]\n",
        "    for x, l in enumerate(data) for n in re.finditer(r'\\d+', l)\n",
        "]\n",
        "\n",
        "# Find all symbols (non-digit, non-period) and their coordinates\n",
        "symbols_with_coordinates = [\n",
        "    [s.group(), (x, s.start())]\n",
        "    for x, l in enumerate(data) for s in re.finditer(r'[^.\\d]', l)\n",
        "]\n",
        "\n",
        "# Calculate the sum of all numbers that are adjacent to any symbol\n",
        "part_1_sum = sum([\n",
        "    int(n[0])  # Convert number string to integer\n",
        "    for n in numbers_with_coordinates\n",
        "    if any(  # Check if any part of the number is adjacent to a symbol\n",
        "        abs(c[0] - s[1][0]) <= 1 and abs(c[1] - s[1][1]) <= 1\n",
        "        for c in n[1] for s in symbols_with_coordinates\n",
        "    )\n",
        "])\n",
        "\n",
        "print('Day 03 Part 1:', part_1_sum)\n",
        "\n",
        "# Part 2: Calculate the sum of products of pairs of numbers adjacent to '*'\n",
        "# Find all positions of the '*' symbol and prepare to store adjacent numbers\n",
        "asterisk_positions = [\n",
        "    [s.group(), (x, s.start()), []]\n",
        "    for x, l in enumerate(data) for s in re.finditer(r'[*]', l)\n",
        "]\n",
        "\n",
        "# Check each number and determine if it's adjacent to any '*' symbol\n",
        "for n in numbers_with_coordinates:\n",
        "    for c in n[1]:\n",
        "        for s in asterisk_positions:\n",
        "            if abs(c[0] - s[1][0]) <= 1 and abs(c[1] - s[1][1]) <= 1:\n",
        "                if n not in s[2]:\n",
        "                    s[2].append(n)  # Add the number to the list of adjacent numbers\n",
        "\n",
        "# Calculate the sum of products of pairs of numbers adjacent to the same '*'\n",
        "part_2_sum = sum([\n",
        "    int(s[2][0][0]) * int(s[2][1][0])  # Convert numbers to integers and multiply\n",
        "    for s in asterisk_positions if len(s[2]) == 2  # Ensure exactly two numbers are adjacent\n",
        "])\n",
        "\n",
        "print('Day 03 Part 2:', part_2_sum)\n"
      ]
    }
  ],
  "metadata": {
    "colab": {
      "provenance": []
    },
    "kernelspec": {
      "display_name": "Python 3",
      "name": "python3"
    },
    "language_info": {
      "name": "python"
    }
  },
  "nbformat": 4,
  "nbformat_minor": 0
}
