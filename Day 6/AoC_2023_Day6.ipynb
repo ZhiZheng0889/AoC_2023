{
  "nbformat": 4,
  "nbformat_minor": 0,
  "metadata": {
    "colab": {
      "provenance": []
    },
    "kernelspec": {
      "name": "python3",
      "display_name": "Python 3"
    },
    "language_info": {
      "name": "python"
    }
  },
  "cells": [
    {
      "cell_type": "code",
      "source": [
        "from math import prod, ceil, floor\n",
        "import re\n",
        "\n",
        "# Function to calculate the number of valid button hold times to beat the record distance\n",
        "def count_valid_hold_times(total_time, record_distance):\n",
        "    # Solve the quadratic equation for the valid hold time range\n",
        "    max_valid_time = 0.5 * (total_time + (total_time**2 - 4 * record_distance)**0.5)\n",
        "    if int(max_valid_time) == max_valid_time:\n",
        "        max_valid_time -= 1\n",
        "\n",
        "    min_valid_time = 0.5 * (total_time - (total_time**2 - 4 * record_distance)**0.5)\n",
        "    if int(min_valid_time) == min_valid_time:\n",
        "        min_valid_time += 1\n",
        "\n",
        "    return floor(max_valid_time) - ceil(min_valid_time) + 1\n",
        "\n",
        "# Part 1: Calculate the product of valid ways to beat the record in each race\n",
        "file_path = \"/content/AoC_2023_Day6.txt\"\n",
        "\n",
        "with open(file_path, 'r') as file:\n",
        "    input_text = file.read()\n",
        "\n",
        "# Split input into lines and extract the numerical values\n",
        "lines = input_text.split('\\n')\n",
        "race_times = list(map(int, re.findall(r'\\d+', lines[0])))\n",
        "record_distances = list(map(int, re.findall(r'\\d+', lines[1])))\n",
        "\n",
        "# Calculate the product of the valid hold times across all races\n",
        "part1_result = prod(count_valid_hold_times(time, distance) for time, distance in zip(race_times, record_distances))\n",
        "print(\"Part 1: Number of Ways to Win All Races:\", part1_result)\n",
        "\n",
        "# Part 2: Calculate the number of valid ways to win the single long race\n",
        "# Concatenate digits for the single race time and record distance\n",
        "single_race_time = int(''.join(re.findall(r'\\d+', lines[0])))\n",
        "single_record_distance = int(''.join(re.findall(r'\\d+', lines[1])))\n",
        "\n",
        "# Calculate the valid hold times for the single long race\n",
        "part2_result = count_valid_hold_times(single_race_time, single_record_distance)\n",
        "print(\"Part 2: Number of Ways to Win the Single Long Race:\", part2_result)\n"
      ],
      "metadata": {
        "colab": {
          "base_uri": "https://localhost:8080/"
        },
        "id": "TTSkIEub0O8G",
        "outputId": "8bc1768a-5d2e-429f-c1df-8baf37a8bcf3"
      },
      "execution_count": 2,
      "outputs": [
        {
          "output_type": "stream",
          "name": "stdout",
          "text": [
            "Part 1: Number of Ways to Win All Races: 440000\n",
            "Part 2: Number of Ways to Win the Single Long Race: 26187338\n"
          ]
        }
      ]
    },
    {
      "cell_type": "code",
      "source": [],
      "metadata": {
        "id": "MchLyV1O2kah"
      },
      "execution_count": null,
      "outputs": []
    }
  ]
}