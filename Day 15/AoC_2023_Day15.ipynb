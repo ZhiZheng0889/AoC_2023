{
  "cells": [
    {
      "cell_type": "code",
      "source": [
        "from functools import reduce\n",
        "\n",
        "# Function to calculate the hash value for a string\n",
        "def calculate_hash(string):\n",
        "    def char_accumulator(current_value, char):\n",
        "        return (current_value + ord(char)) * 17 % 256\n",
        "    return reduce(char_accumulator, string, 0)\n",
        "\n",
        "# Load and process data\n",
        "data = open('/content/AoC_2023_Day15.txt').read().strip().split(',')\n",
        "\n",
        "# Part 1: Calculate the sum of the hash values for each step\n",
        "hash_values_sum = sum(map(calculate_hash, data))\n",
        "print(f\"Sum of hash values: {hash_values_sum}\")\n",
        "\n",
        "# Initialize 256 boxes\n",
        "boxes = [{} for _ in range(256)]\n",
        "\n",
        "# Part 2: Process each step and modify the lens configuration in the boxes\n",
        "for step in data:\n",
        "    label_and_focal = step.strip('-').split('=')\n",
        "    label = label_and_focal[0]\n",
        "    box_index = calculate_hash(label)\n",
        "\n",
        "    if len(label_and_focal) == 2:  # Case with a focal length assignment\n",
        "        focal_length = int(label_and_focal[1])\n",
        "        boxes[box_index][label] = focal_length\n",
        "    else:  # Case for lens removal\n",
        "        boxes[box_index].pop(label, None)\n",
        "\n",
        "# Calculate the focusing power\n",
        "focusing_power = sum(\n",
        "    (box_index + 1) * (slot_index + 1) * focal_length\n",
        "    for box_index, box in enumerate(boxes)\n",
        "    for slot_index, focal_length in enumerate(box.values())\n",
        ")\n",
        "print(f\"Total focusing power: {focusing_power}\")\n"
      ],
      "metadata": {
        "colab": {
          "base_uri": "https://localhost:8080/"
        },
        "id": "RNmYMouD32CZ",
        "outputId": "a3233ffe-d057-4b80-935b-82f9a7f02141"
      },
      "execution_count": 36,
      "outputs": [
        {
          "output_type": "stream",
          "name": "stdout",
          "text": [
            "Sum of hash values: 516657\n",
            "Total focusing power: 210906\n"
          ]
        }
      ]
    },
    {
      "cell_type": "markdown",
      "source": [],
      "metadata": {
        "id": "G-xKu0260bEq"
      }
    }
  ],
  "metadata": {
    "colab": {
      "provenance": []
    },
    "kernelspec": {
      "display_name": "Python 3",
      "name": "python3"
    },
    "language_info": {
      "name": "python"
    }
  },
  "nbformat": 4,
  "nbformat_minor": 0
}