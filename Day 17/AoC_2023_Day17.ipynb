{
  "cells": [
    {
      "cell_type": "code",
      "source": [
        "import heapq\n",
        "\n",
        "def minimal_heat(start, end, min_steps, max_steps, grid):\n",
        "    # Priority queue to store the state (current heat loss, current x, current y, previous dx, previous dy)\n",
        "    queue = [(0, start[0], start[1], 0, 0)]\n",
        "    visited = set()\n",
        "\n",
        "    while queue:\n",
        "        current_heat, x, y, prev_dx, prev_dy = heapq.heappop(queue)\n",
        "\n",
        "        # Check if we've reached the destination\n",
        "        if (x, y) == end:\n",
        "            return current_heat\n",
        "\n",
        "        # Skip if this position and direction were already visited\n",
        "        if (x, y, prev_dx, prev_dy) in visited:\n",
        "            continue\n",
        "\n",
        "        visited.add((x, y, prev_dx, prev_dy))\n",
        "\n",
        "        # Possible directions (right, down, left, up)\n",
        "        directions = [(1, 0), (0, 1), (-1, 0), (0, -1)]\n",
        "\n",
        "        # Exclude reverse direction and same direction (to force turning)\n",
        "        for dx, dy in directions:\n",
        "            if (dx, dy) == (prev_dx, prev_dy) or (dx, dy) == (-prev_dx, -prev_dy):\n",
        "                continue\n",
        "\n",
        "            # Move in the chosen direction for a number of steps\n",
        "            for steps in range(min_steps, max_steps + 1):\n",
        "                new_x, new_y = x + dx * steps, y + dy * steps\n",
        "\n",
        "                # Check if the new position is within the grid bounds\n",
        "                if (new_x, new_y) in grid:\n",
        "                    new_heat = current_heat + sum(grid[x + dx * i, y + dy * i] for i in range(1, steps + 1))\n",
        "                    heapq.heappush(queue, (new_heat, new_x, new_y, dx, dy))\n",
        "\n",
        "def load_grid(filename):\n",
        "    with open(filename, 'r') as file:\n",
        "        return {(i, j): int(char) for i, line in enumerate(file) for j, char in enumerate(line.strip())}\n",
        "\n",
        "# Load the grid and define start/end positions\n",
        "grid = load_grid('/content/AoC_2023_Day17.txt')\n",
        "start_position = (0, 0)\n",
        "end_position = max(grid.keys())\n",
        "\n",
        "# Calculate minimal heat loss for both parts\n",
        "min_heat_part_1 = minimal_heat(start_position, end_position, 1, 3, grid)\n",
        "min_heat_part_2 = minimal_heat(start_position, end_position, 4, 10, grid)\n",
        "\n",
        "# Display results\n",
        "print(f\"Minimal heat loss (Part 1): {min_heat_part_1}\")\n",
        "print(f\"Minimal heat loss (Part 2): {min_heat_part_2}\")\n"
      ],
      "metadata": {
        "colab": {
          "base_uri": "https://localhost:8080/"
        },
        "id": "OcKpdR86zSwT",
        "outputId": "6c541903-607b-4521-b8ee-c02a1ce7a24d"
      },
      "execution_count": 9,
      "outputs": [
        {
          "output_type": "stream",
          "name": "stdout",
          "text": [
            "Minimal heat loss (Part 1): 785\n",
            "Minimal heat loss (Part 2): 922\n"
          ]
        }
      ]
    },
    {
      "cell_type": "markdown",
      "source": [],
      "metadata": {
        "id": "G-xKu0260bEq"
      }
    }
  ],
  "metadata": {
    "colab": {
      "provenance": []
    },
    "kernelspec": {
      "display_name": "Python 3",
      "name": "python3"
    },
    "language_info": {
      "name": "python"
    }
  },
  "nbformat": 4,
  "nbformat_minor": 0
}