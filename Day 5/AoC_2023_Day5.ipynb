{
  "nbformat": 4,
  "nbformat_minor": 0,
  "metadata": {
    "colab": {
      "provenance": []
    },
    "kernelspec": {
      "name": "python3",
      "display_name": "Python 3"
    },
    "language_info": {
      "name": "python"
    }
  },
  "cells": [
    {
      "cell_type": "code",
      "source": [
        "from functools import reduce\n",
        "\n",
        "# Read and parse the input data\n",
        "with open('/content/AoC_2023_Day5.txt') as file:\n",
        "    sections = file.read().split('\\n\\n')\n",
        "\n",
        "# Extract and convert seeds into a list of integers\n",
        "seed_numbers = list(map(int, sections[0].split()[1:]))\n",
        "\n",
        "# Extract the transformation rules\n",
        "transformation_rules = sections[1:]\n",
        "\n",
        "def map_values_through_rule(value_ranges, rule):\n",
        "    \"\"\"\n",
        "    Maps each seed (or range of seeds) through a given transformation rule.\n",
        "    If the seed falls within a source range, it is mapped to the corresponding destination range.\n",
        "    \"\"\"\n",
        "    for start_value, range_length in value_ranges:\n",
        "        while range_length > 0:\n",
        "            # Iterate through each rule line\n",
        "            for line in rule.splitlines()[1:]:\n",
        "                destination_start, source_start, rule_length = map(int, line.split())\n",
        "                delta = start_value - source_start\n",
        "                # Check if the seed is within the current source range\n",
        "                if 0 <= delta < rule_length:\n",
        "                    mapped_length = min(rule_length - delta, range_length)\n",
        "                    yield (destination_start + delta, mapped_length)\n",
        "                    start_value += mapped_length\n",
        "                    range_length -= mapped_length\n",
        "                    break\n",
        "            else:\n",
        "                yield (start_value, range_length)\n",
        "                break\n",
        "\n",
        "def calculate_minimum_location(seed_ranges, rules):\n",
        "    \"\"\"\n",
        "    Applies the transformation rules to each seed or seed range and finds the minimum location number.\n",
        "    \"\"\"\n",
        "    return min(reduce(map_values_through_rule, rules, seed_ranges))[0]\n",
        "\n",
        "# Part 1: Treat each seed individually\n",
        "individual_seed_ranges = zip(seed_numbers, [1] * len(seed_numbers))\n",
        "\n",
        "# Part 2: Treat seeds as pairs of ranges\n",
        "paired_seed_ranges = zip(seed_numbers[0::2], seed_numbers[1::2])\n",
        "\n",
        "# Calculate the minimum location for Part 1\n",
        "minimum_location_part1 = calculate_minimum_location(individual_seed_ranges, transformation_rules)\n",
        "print(\"Part 1 - Minimum Location:\", minimum_location_part1)\n",
        "\n",
        "# Calculate the minimum location for Part 2\n",
        "minimum_location_part2 = calculate_minimum_location(paired_seed_ranges, transformation_rules)\n",
        "print(\"Part 2 - Minimum Location:\", minimum_location_part2)\n"
      ],
      "metadata": {
        "colab": {
          "base_uri": "https://localhost:8080/"
        },
        "id": "TTSkIEub0O8G",
        "outputId": "1e7028b9-e38a-4363-ce5a-d3f3ec4258dc"
      },
      "execution_count": 18,
      "outputs": [
        {
          "output_type": "stream",
          "name": "stdout",
          "text": [
            "Part 1 - Minimum Location: 251346198\n",
            "Part 2 - Minimum Location: 72263011\n"
          ]
        }
      ]
    },
    {
      "cell_type": "code",
      "source": [
        "# Advent of Code Day 5 Solution\n",
        "\n",
        "## Overview\n",
        "This Python script solves the Advent of Code Day 5 puzzle, where the task is to map seed numbers through a series of transformation rules to find the minimum corresponding location number. The script is designed to handle both parts of the puzzle:\n",
        "\n",
        "1. **Part 1**: Processes each seed number individually.\n",
        "2. **Part 2**: Processes seeds as pairs of ranges and maps the entire range to find the minimum location.\n",
        "\n",
        "## Script Structure\n",
        "\n",
        "### 1. **Input Handling**\n",
        "   - The script reads the input data from a file named `AoC_2023_Day5.txt`.\n",
        "   - The input is split into two main sections:\n",
        "     - **Seed Numbers**: A list of integers representing seed numbers.\n",
        "     - **Transformation Rules**: A series of rules that map seed numbers through various categories (soil, fertilizer, water, etc.) to find the final location.\n",
        "\n",
        "### 2. **Seed Extraction**\n",
        "   - The seed numbers are extracted from the first section of the input and converted into a list of integers.\n",
        "\n",
        "### 3. **Transformation Rules Extraction**\n",
        "   - The transformation rules are extracted from the subsequent sections of the input. Each rule specifies how to map a seed or seed range from one category to another.\n",
        "\n",
        "### 4. **`map_values_through_rule` Function**\n",
        "   - This function takes a list of seed ranges and a transformation rule.\n",
        "   - It maps each seed (or range of seeds) through the transformation rule:\n",
        "     - If the seed falls within a specified source range, it is mapped to the corresponding destination range.\n",
        "     - The function yields the mapped seed value and the length of the range that was mapped.\n",
        "     - If a seed does not match any source range, it is yielded as is.\n",
        "\n",
        "### 5. **`calculate_minimum_location` Function**\n",
        "   - This function applies all transformation rules to each seed or seed range to find the minimum location number.\n",
        "   - It uses the `reduce` function to apply the `map_values_through_rule` function across all rules, progressively transforming the seed values.\n",
        "\n",
        "### 6. **Part 1: Individual Seed Processing**\n",
        "   - Each seed is treated individually, and the script calculates the minimum location by mapping each seed through the transformation rules.\n",
        "\n",
        "### 7. **Part 2: Seed Range Processing**\n",
        "   - Seeds are treated as pairs of ranges, where each pair specifies the start and length of a range of seed numbers.\n",
        "   - The script calculates the minimum location by expanding each seed range and applying the transformation rules.\n",
        "\n",
        "### 8. **Output**\n",
        "   - The script prints the minimum location number for both Part 1 and Part 2.\n",
        "\n",
        "## Usage\n",
        "- Ensure that the input file `AoC_2023_Day5.txt` is placed in the correct directory.\n",
        "- Run the script in a Python environment to obtain the minimum location numbers for both parts of the puzzle.\n",
        "\n"
      ],
      "metadata": {
        "id": "MchLyV1O2kah"
      },
      "execution_count": null,
      "outputs": []
    }
  ]
}