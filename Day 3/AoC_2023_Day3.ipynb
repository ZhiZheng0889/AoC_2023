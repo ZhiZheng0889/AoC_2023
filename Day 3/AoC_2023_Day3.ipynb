{
  "nbformat": 4,
  "nbformat_minor": 0,
  "metadata": {
    "colab": {
      "provenance": []
    },
    "kernelspec": {
      "name": "python3",
      "display_name": "Python 3"
    },
    "language_info": {
      "name": "python"
    }
  },
  "cells": [
    {
      "cell_type": "code",
      "source": [
        "import re\n",
        "\n",
        "# Read the file and store the contents line by line\n",
        "with open('AoC_2023_Day3.txt', 'r') as file:\n",
        "    data = file.read().split('\\n')\n",
        "\n",
        "# Part 1: Calculate the sum of numbers adjacent to any symbol\n",
        "# Find all numbers in the grid along with their coordinates\n",
        "numbers_with_coordinates = [\n",
        "    [n.group(), [(x, n.start() + i) for i in range(len(n.group()))]]\n",
        "    for x, l in enumerate(data) for n in re.finditer(r'\\d+', l)\n",
        "]\n",
        "\n",
        "# Find all symbols (non-digit, non-period) and their coordinates\n",
        "symbols_with_coordinates = [\n",
        "    [s.group(), (x, s.start())]\n",
        "    for x, l in enumerate(data) for s in re.finditer(r'[^.\\d]', l)\n",
        "]\n",
        "\n",
        "# Calculate the sum of all numbers that are adjacent to any symbol\n",
        "part_1_sum = sum([\n",
        "    int(n[0])  # Convert number string to integer\n",
        "    for n in numbers_with_coordinates\n",
        "    if any(  # Check if any part of the number is adjacent to a symbol\n",
        "        abs(c[0] - s[1][0]) <= 1 and abs(c[1] - s[1][1]) <= 1\n",
        "        for c in n[1] for s in symbols_with_coordinates\n",
        "    )\n",
        "])\n",
        "\n",
        "print('Day 03 Part 1:', part_1_sum)\n",
        "\n",
        "# Part 2: Calculate the sum of products of pairs of numbers adjacent to '*'\n",
        "# Find all positions of the '*' symbol and prepare to store adjacent numbers\n",
        "asterisk_positions = [\n",
        "    [s.group(), (x, s.start()), []]\n",
        "    for x, l in enumerate(data) for s in re.finditer(r'[*]', l)\n",
        "]\n",
        "\n",
        "# Check each number and determine if it's adjacent to any '*' symbol\n",
        "for n in numbers_with_coordinates:\n",
        "    for c in n[1]:\n",
        "        for s in asterisk_positions:\n",
        "            if abs(c[0] - s[1][0]) <= 1 and abs(c[1] - s[1][1]) <= 1:\n",
        "                if n not in s[2]:\n",
        "                    s[2].append(n)  # Add the number to the list of adjacent numbers\n",
        "\n",
        "# Calculate the sum of products of pairs of numbers adjacent to the same '*'\n",
        "part_2_sum = sum([\n",
        "    int(s[2][0][0]) * int(s[2][1][0])  # Convert numbers to integers and multiply\n",
        "    for s in asterisk_positions if len(s[2]) == 2  # Ensure exactly two numbers are adjacent\n",
        "])\n",
        "\n",
        "print('Day 03 Part 2:', part_2_sum)\n"
      ],
      "metadata": {
        "colab": {
          "base_uri": "https://localhost:8080/"
        },
        "id": "dOqurbUynrBl",
        "outputId": "c96f8829-7c6c-460e-9245-f8eaea74aaee"
      },
      "execution_count": 46,
      "outputs": [
        {
          "output_type": "stream",
          "name": "stdout",
          "text": [
            "Day 03 Part 1: 526404\n",
            "Day 03 Part 2: 84399773\n"
          ]
        }
      ]
    },
    {
      "cell_type": "code",
      "source": [
        "### Documentation: Why the Code Works\n",
        "\n",
        "#### Overview\n",
        "The code provided is designed to solve the puzzle from Day 3 of Advent of Code 2023. The puzzle involves processing a grid of characters to identify numbers adjacent to specific symbols, and then performing calculations based on these numbers. The solution is split into two parts: Part 1 calculates the sum of numbers adjacent to any symbol, while Part 2 calculates the sum of products of numbers adjacent to the `*` symbol.\n",
        "\n",
        "#### Part 1: Summing Numbers Adjacent to Symbols\n",
        "\n",
        "1. **Reading the Input:**\n",
        "   - The input grid is read from a text file and split into lines to create a grid-like representation where each line corresponds to a row in the grid.\n",
        "\n",
        "2. **Identifying Numbers and Symbols:**\n",
        "   - **Numbers:** The code uses regular expressions to find all multi-digit numbers in each line of the grid. These numbers are stored along with their exact coordinates (row and column positions).\n",
        "   - **Symbols:** Similarly, the code identifies all symbols that are neither digits nor periods (`.`) and records their coordinates. This includes symbols such as `*`, `#`, `+`, `$`, and others.\n",
        "\n",
        "3. **Checking Adjacency:**\n",
        "   - For each number identified in the grid, the code checks if any part of the number is adjacent to any symbol. Adjacency is defined as being horizontally, vertically, or diagonally next to a symbol.\n",
        "   - This check is performed by comparing the coordinates of each digit in the number with the coordinates of each symbol.\n",
        "\n",
        "4. **Calculating the Sum:**\n",
        "   - If a number is found to be adjacent to any symbol, it is included in the sum.\n",
        "   - The sum of all such adjacent numbers is calculated and output as the result for Part 1.\n",
        "\n",
        "#### Part 2: Summing Products of Pairs of Numbers Adjacent to the `*` Symbol\n",
        "\n",
        "1. **Identifying `*` Positions:**\n",
        "   - The code specifically searches for the `*` symbol in the grid and records its position. Each `*` symbol is also associated with an empty list that will later store adjacent numbers.\n",
        "\n",
        "2. **Checking Adjacency to `*`:**\n",
        "   - The code checks each number in the grid to see if it is adjacent to any `*` symbol.\n",
        "   - If a number is adjacent to a `*` symbol, it is added to the list of numbers associated with that `*`.\n",
        "\n",
        "3. **Calculating the Product Sum:**\n",
        "   - The code then checks each `*` symbol to see if exactly two numbers are adjacent to it.\n",
        "   - For each `*` symbol with two adjacent numbers, the code multiplies these two numbers and adds the product to a running total.\n",
        "   - The final sum of these products is calculated and output as the result for Part 2.\n",
        "\n",
        "#### Why the Code Works\n",
        "\n",
        "- **Effective Use of Regular Expressions:** The code utilizes regular expressions to accurately identify multi-digit numbers and symbols, ensuring that even complex cases are handled correctly.\n",
        "\n",
        "- **Coordinate-Based Adjacency Check:** By storing and comparing the coordinates of numbers and symbols, the code effectively determines adjacency. This method is reliable and works for any grid configuration, including edge and corner cases.\n",
        "\n",
        "- **Error Handling in Multiplication:** The code ensures that all strings representing numbers are converted to integers before performing any mathematical operations. This prevents type errors and guarantees that the calculations are performed correctly.\n",
        "\n",
        "- **Comprehensive Coverage:** The code is designed to handle a variety of symbols and grid sizes, making it robust and adaptable to different input scenarios. It accurately solves the puzzle by considering all possible cases where numbers and symbols can interact.\n",
        "\n",
        "This approach ensures that the code provides correct results for both Part 1 and Part 2 of the Advent of Code Day 3 puzzle, demonstrating the accuracy and efficiency of the solution.\n"
      ],
      "metadata": {
        "id": "otwvrG7qoK5m"
      },
      "execution_count": null,
      "outputs": []
    }
  ]
}