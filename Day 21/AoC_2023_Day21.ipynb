{
  "cells": [
    {
      "cell_type": "code",
      "source": [
        "# Directions: right (1), up (1j), left (-1), down (-1j)\n",
        "D = [1, 1j, -1, -1j]\n",
        "\n",
        "# Starting position of the Elf\n",
        "s = 1 + 1j\n",
        "\n",
        "# Number of steps in Part 2\n",
        "T = 202300\n",
        "\n",
        "# Define the garden plots ('g') by parsing the input file\n",
        "with open('/content/AoC_2023_Day21.txt') as f:\n",
        "    g = {x + y * 1j for y, line in enumerate(f) for x, c in enumerate(line.strip()) if c != '#'}\n",
        "\n",
        "# Coordinates to check based on the starting position\n",
        "C = [s, -s, s-2, s-2j]\n",
        "\n",
        "# Function to calculate the number of reachable garden plots in 't' steps\n",
        "def reachable_garden_plots(t=64, start_offset=0):\n",
        "    # Initialize the starting position with an offset\n",
        "    positions = {65 * (start_offset + s)}\n",
        "\n",
        "    # Expand the reachable positions over 't' steps\n",
        "    for _ in range(t):\n",
        "        positions = {p + d for p in positions for d in D}\n",
        "\n",
        "    # Return the count of positions that are both reachable and valid garden plots\n",
        "    return len(g & positions)\n",
        "\n",
        "# Compute the result for Part 1 (64 steps)\n",
        "result_part1 = reachable_garden_plots()\n",
        "\n",
        "# Compute the result for Part 2 with a complex formula involving T\n",
        "result_part2 = (\n",
        "    T * (T * reachable_garden_plots(132) + sum(map(lambda offset: reachable_garden_plots(64, offset), C))) +\n",
        "    (T - 1) * ((T - 1) * reachable_garden_plots(131) + sum(map(lambda offset: reachable_garden_plots(195, offset), C))) +\n",
        "    sum(map(lambda direction: reachable_garden_plots(130, direction), D))\n",
        ")\n",
        "\n",
        "# Print the results with added context\n",
        "print(f\"Part 1: Garden plots reachable in exactly 64 steps: {result_part1}\")\n",
        "print(f\"Part 2: Garden plots reachable in exactly 26,501,365 steps (infinite map): {result_part2}\")\n"
      ],
      "metadata": {
        "colab": {
          "base_uri": "https://localhost:8080/"
        },
        "id": "hNtiLh2YLaG1",
        "outputId": "f5a62d52-0dbd-4a99-fd9b-4f7962ea56bc"
      },
      "execution_count": 11,
      "outputs": [
        {
          "output_type": "stream",
          "name": "stdout",
          "text": [
            "Part 1: Garden plots reachable in exactly 64 steps: 3679\n",
            "Part 2: Garden plots reachable in exactly 26,501,365 steps (infinite map): 609667080038384\n"
          ]
        }
      ]
    },
    {
      "cell_type": "markdown",
      "source": [],
      "metadata": {
        "id": "G-xKu0260bEq"
      }
    }
  ],
  "metadata": {
    "colab": {
      "provenance": []
    },
    "kernelspec": {
      "display_name": "Python 3",
      "name": "python3"
    },
    "language_info": {
      "name": "python"
    }
  },
  "nbformat": 4,
  "nbformat_minor": 0
}