{
  "nbformat": 4,
  "nbformat_minor": 0,
  "metadata": {
    "colab": {
      "provenance": []
    },
    "kernelspec": {
      "name": "python3",
      "display_name": "Python 3"
    },
    "language_info": {
      "name": "python"
    }
  },
  "cells": [
    {
      "cell_type": "code",
      "source": [
        "import collections\n",
        "\n",
        "# Read and parse the input lines from the file\n",
        "input_lines = [line for line in open('/content/AoC_2023_Day7.txt').read().split('\\n') if line.strip()]\n",
        "\n",
        "def evaluate_hand_strength(hand_string, is_part1):\n",
        "    \"\"\"\n",
        "    Evaluate the strength of a hand in Camel Cards.\n",
        "\n",
        "    Parameters:\n",
        "    - hand_string: A string representing the cards in the hand.\n",
        "    - is_part1: A boolean indicating if 'J' should be replaced with 'X' for special processing.\n",
        "\n",
        "    Returns:\n",
        "    A tuple containing the maximum hand strength and card values for tie-breaking.\n",
        "    \"\"\"\n",
        "    if is_part1:\n",
        "        hand_string = hand_string.replace('J', 'X')  # Replace 'J' with 'X' for special processing\n",
        "\n",
        "    # Convert cards to numerical indices for comparison\n",
        "    card_indices = ['J23456789TXQKA'.index(card) for card in hand_string]\n",
        "\n",
        "    # List to store all possible hand types based on card replacements\n",
        "    possible_hand_types = []\n",
        "\n",
        "    # Evaluate the hand for every possible card replacement for 'J'\n",
        "    for replacement_card in '23456789TQKA':\n",
        "        replaced_hand_string = hand_string.replace('J', replacement_card)\n",
        "        card_counter = collections.Counter(replaced_hand_string)\n",
        "        card_count_tuple = tuple(sorted(card_counter.values()))\n",
        "\n",
        "        # Determine the hand type based on card counts\n",
        "        hand_type_index = [(1, 1, 1, 1, 1),  # High Card\n",
        "                           (1, 1, 1, 2),     # One Pair\n",
        "                           (1, 2, 2),        # Two Pair\n",
        "                           (1, 1, 3),        # Three of a Kind\n",
        "                           (2, 3),           # Full House\n",
        "                           (1, 4),           # Four of a Kind\n",
        "                           (5,)].index(card_count_tuple)  # Five of a Kind\n",
        "\n",
        "        possible_hand_types.append(hand_type_index)\n",
        "\n",
        "    # Return the strongest hand type and the card indices for tie-breaking\n",
        "    return max(possible_hand_types), *card_indices\n",
        "\n",
        "# Process for both parts of the problem\n",
        "for is_part1 in (True, False):\n",
        "    # Evaluate and sort hands based on their strength\n",
        "    evaluated_hands = sorted((evaluate_hand_strength(hand, is_part1), int(bid)) for hand, bid in (line.split() for line in input_lines))\n",
        "\n",
        "    # Calculate the total winnings\n",
        "    total_winnings = 0\n",
        "    for rank, (_, bid_amount) in enumerate(evaluated_hands):\n",
        "        total_winnings += rank * bid_amount + bid_amount\n",
        "\n",
        "    print('Part', 2 - int(is_part1), ':', total_winnings)\n"
      ],
      "metadata": {
        "colab": {
          "base_uri": "https://localhost:8080/"
        },
        "id": "74P2JeKt5i1E",
        "outputId": "3dbaaf1a-118f-4706-edf1-c9ea1f90e16f"
      },
      "execution_count": 9,
      "outputs": [
        {
          "output_type": "stream",
          "name": "stdout",
          "text": [
            "Part 1 : 247815719\n",
            "Part 2 : 248747492\n"
          ]
        }
      ]
    },
    {
      "cell_type": "code",
      "source": [
        "# Camel Cards Puzzle Solver\n",
        "\n",
        "## Overview\n",
        "\n",
        "This document provides an explanation of how the Camel Cards puzzle from the Advent of Code 2023 event is solved. The puzzle revolves around evaluating and ranking card hands, similar to poker, and calculating total winnings based on these rankings.\n",
        "\n",
        "## Puzzle Description\n",
        "\n",
        "In this puzzle, you are given a list of card hands, each consisting of five cards, and a corresponding bid amount. The goal is to rank these hands based on their strength and then calculate the total winnings by multiplying each hand's bid by its rank. The puzzle is divided into two parts:\n",
        "\n",
        "- **Part 1**: Hands are evaluated based on standard poker-like rules.\n",
        "- **Part 2**: The `J` card becomes a wildcard, which can be substituted with any card to form the strongest possible hand. However, when comparing hands of the same type, `J` is treated as the weakest card.\n",
        "\n",
        "## How the Code Solves the Puzzle\n",
        "\n",
        "### Input Parsing\n",
        "\n",
        "The input file containing the card hands and their bid amounts is read and processed to extract each hand and its corresponding bid. Each line of the input represents a hand and bid pair.\n",
        "\n",
        "### Hand Evaluation\n",
        "\n",
        "For each hand:\n",
        "- **Part 1**: The hand is evaluated according to standard rules where each card holds its conventional value.\n",
        "- **Part 2**: The `J` card acts as a wildcard, allowing it to be substituted with any other card to maximize the hand's strength. However, when resolving ties between hands of the same type, `J` is considered the weakest card.\n",
        "\n",
        "The hand is then categorized into one of the possible hand types (e.g., High Card, One Pair, Full House) based on the distribution of card values. The strength of the hand is determined by this category.\n",
        "\n",
        "### Sorting Hands\n",
        "\n",
        "The hands are then sorted based on their evaluated strength. Hands that belong to a stronger category (e.g., Full House) rank higher than those in a weaker category (e.g., One Pair). For hands of the same category, tie-breaking is done by comparing the values of the cards in descending order.\n",
        "\n",
        "### Calculating Winnings\n",
        "\n",
        "Once the hands are sorted:\n",
        "- Each hand's rank (from weakest to strongest) is determined by its position in the sorted list.\n",
        "- The total winnings are calculated by multiplying each hand's bid amount by its rank, and summing these values for all hands.\n",
        "\n",
        "### Output\n",
        "\n",
        "The script calculates and prints the total winnings for both Part 1 and Part 2 of the puzzle, reflecting the changes introduced by the wildcard rule in Part 2.\n",
        "\n",
        "\n"
      ],
      "metadata": {
        "id": "htZqCRYA6oCj"
      },
      "execution_count": null,
      "outputs": []
    }
  ]
}