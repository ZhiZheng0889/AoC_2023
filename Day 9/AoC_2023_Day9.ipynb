{
  "cells": [
    {
      "cell_type": "code",
      "source": [
        "from math import comb  # Import the combination function from the math module\n",
        "\n",
        "def extrapolate_value(sequence, is_next=True):\n",
        "    \"\"\"\n",
        "    Calculate the next or previous value in the sequence using Lagrange interpolation.\n",
        "\n",
        "    Parameters:\n",
        "    sequence (list of int): The input sequence of numbers.\n",
        "    is_next (bool): If True, calculate the next value; if False, calculate the previous value.\n",
        "\n",
        "    Returns:\n",
        "    int: The extrapolated value (next or previous).\n",
        "    \"\"\"\n",
        "    sequence_length = len(sequence)\n",
        "    extrapolated_value = 0\n",
        "    offset = 0 if is_next else 1\n",
        "\n",
        "    for index, value in enumerate(sequence):\n",
        "        # Calculate the contribution of each term in the sequence\n",
        "        extrapolated_value += value * comb(sequence_length, index + offset) * (-1) ** (index if is_next else sequence_length - 1 - index)\n",
        "\n",
        "    return extrapolated_value\n",
        "\n",
        "# Initialize accumulators for the sum of all next and previous values\n",
        "total_next_value, total_previous_value = 0, 0\n",
        "\n",
        "# Read each line from the history, process it, and accumulate results\n",
        "for line in history:\n",
        "    # Convert the line of numbers into a list of integers\n",
        "    sequence = list(map(int, line.strip().split()))\n",
        "    # Calculate both next and previous values using the same function\n",
        "    total_next_value += extrapolate_value(sequence, is_next=True)\n",
        "    total_previous_value += extrapolate_value(sequence, is_next=False)\n",
        "\n",
        "# Output the total sum for Part 1 (next values)\n",
        "print(f\"Part 1: The total sum of extrapolated next values is {total_next_value}.\")\n",
        "\n",
        "# Output the total sum for Part 2 (previous values)\n",
        "print(f\"Part 2: The total sum of extrapolated previous values is {total_previous_value}.\")\n",
        "\n"
      ],
      "metadata": {
        "colab": {
          "base_uri": "https://localhost:8080/"
        },
        "id": "QVIJL3LZ1wGQ",
        "outputId": "79328066-8919-4307-dc02-76c8f561baa8"
      },
      "execution_count": 4,
      "outputs": [
        {
          "output_type": "stream",
          "name": "stdout",
          "text": [
            "Part 1: The total sum of extrapolated next values is 1702218515.\n",
            "Part 2: The total sum of extrapolated previous values is 925.\n"
          ]
        }
      ]
    }
  ],
  "metadata": {
    "colab": {
      "provenance": []
    },
    "kernelspec": {
      "display_name": "Python 3",
      "name": "python3"
    },
    "language_info": {
      "name": "python"
    }
  },
  "nbformat": 4,
  "nbformat_minor": 0
}