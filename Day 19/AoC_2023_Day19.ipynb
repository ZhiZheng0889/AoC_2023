{
  "cells": [
    {
      "cell_type": "code",
      "source": [
        "import re\n",
        "\n",
        "# Helper function to extract all integers from a string\n",
        "def extract_integers(s):\n",
        "    return list(map(int, re.findall(r'\\d+', s)))\n",
        "\n",
        "# Load and parse the input file\n",
        "with open('/content/AoC_2023_Day19.txt') as file:\n",
        "    ll = file.read().strip().split('\\n\\n')\n",
        "    workflow_data, parts_data = ll\n",
        "\n",
        "# Process parts data\n",
        "parts = [extract_integers(line) for line in parts_data.split(\"\\n\")]\n",
        "\n",
        "# Process workflow data\n",
        "workflow = {line.split(\"{\")[0]: line.split(\"{\")[1][:-1] for line in workflow_data.split(\"\\n\")}\n",
        "\n",
        "# Recursive function to evaluate whether a part is accepted or rejected\n",
        "def evaluate_part(part, workflow_name):\n",
        "    workflow_rules = workflow[workflow_name]\n",
        "    x, m, a, s = part\n",
        "    for rule in workflow_rules.split(\",\"):\n",
        "        if rule == \"R\":\n",
        "            return False  # Part is rejected\n",
        "        if rule == \"A\":\n",
        "            return True  # Part is accepted\n",
        "        if \":\" not in rule:\n",
        "            return evaluate_part(part, rule)  # Recursively evaluate in another workflow\n",
        "        condition, next_workflow = rule.split(\":\")\n",
        "        if eval(condition):  # Evaluate the condition\n",
        "            if next_workflow == \"R\":\n",
        "                return False  # Part is rejected\n",
        "            if next_workflow == \"A\":\n",
        "                return True  # Part is accepted\n",
        "            return evaluate_part(part, next_workflow)  # Recursively evaluate in the next workflow\n",
        "    raise Exception(f\"Unexpected workflow: {workflow_rules}\")\n",
        "\n",
        "# Part 1: Sum the ratings of all accepted parts\n",
        "def part1():\n",
        "    total_sum = 0\n",
        "    for part in parts:\n",
        "        if evaluate_part(part, 'in'):\n",
        "            total_sum += sum(part)\n",
        "    print(f\"Total sum of ratings for accepted parts: {total_sum}\")\n",
        "\n",
        "# Function to refine ranges based on a condition\n",
        "def refine_ranges(character, greater_than, value, ranges):\n",
        "    char_index = 'xmas'.index(character)\n",
        "    refined_ranges = []\n",
        "    for rng in ranges:\n",
        "        rng = list(rng)\n",
        "        lo, hi = rng[char_index]\n",
        "        if greater_than:\n",
        "            lo = max(lo, value + 1)\n",
        "        else:\n",
        "            hi = min(hi, value - 1)\n",
        "        if lo > hi:\n",
        "            continue\n",
        "        rng[char_index] = (lo, hi)\n",
        "        refined_ranges.append(tuple(rng))\n",
        "    return refined_ranges\n",
        "\n",
        "# Recursive function to calculate accepted ranges\n",
        "def calculate_accepted_ranges(workflow_name):\n",
        "    return evaluate_workflow_rules(workflow[workflow_name].split(\",\"))\n",
        "\n",
        "# Function to evaluate workflow rules and return accepted ranges\n",
        "def evaluate_workflow_rules(rules):\n",
        "    current_rule = rules[0]\n",
        "    if current_rule == \"R\":\n",
        "        return []\n",
        "    if current_rule == \"A\":\n",
        "        return [((1, 4000), (1, 4000), (1, 4000), (1, 4000))]  # Full range for all ratings\n",
        "    if \":\" not in current_rule:\n",
        "        return calculate_accepted_ranges(current_rule)\n",
        "\n",
        "    condition, next_workflow = current_rule.split(\":\")\n",
        "    greater_than = \">\" in condition\n",
        "    character = condition[0]\n",
        "    value = int(condition[2:])\n",
        "    value_inverted = value + 1 if greater_than else value - 1\n",
        "\n",
        "    true_ranges = refine_ranges(character, greater_than, value, evaluate_workflow_rules([next_workflow]))\n",
        "    false_ranges = refine_ranges(character, not greater_than, value_inverted, evaluate_workflow_rules(rules[1:]))\n",
        "\n",
        "    return true_ranges + false_ranges\n",
        "\n",
        "# Part 2: Calculate the number of distinct combinations of ratings that are accepted\n",
        "def part2():\n",
        "    total_accepted_combinations = 0\n",
        "    for accepted_range in calculate_accepted_ranges('in'):\n",
        "        combinations = 1\n",
        "        for lo, hi in accepted_range:\n",
        "            combinations *= hi - lo + 1\n",
        "        total_accepted_combinations += combinations\n",
        "    print(f\"Total number of accepted rating combinations: {total_accepted_combinations}\")\n",
        "\n",
        "# Run the solutions for both parts\n",
        "part1()\n",
        "part2()\n"
      ],
      "metadata": {
        "colab": {
          "base_uri": "https://localhost:8080/"
        },
        "id": "8rRhP24I3E9d",
        "outputId": "c9d4d48b-7bbc-4fbb-8e2e-9f9072d1cc69"
      },
      "execution_count": 17,
      "outputs": [
        {
          "output_type": "stream",
          "name": "stdout",
          "text": [
            "Total sum of ratings for accepted parts: 368523\n",
            "Total number of accepted rating combinations: 124167549767307\n"
          ]
        }
      ]
    },
    {
      "cell_type": "markdown",
      "source": [],
      "metadata": {
        "id": "G-xKu0260bEq"
      }
    }
  ],
  "metadata": {
    "colab": {
      "provenance": []
    },
    "kernelspec": {
      "display_name": "Python 3",
      "name": "python3"
    },
    "language_info": {
      "name": "python"
    }
  },
  "nbformat": 4,
  "nbformat_minor": 0
}