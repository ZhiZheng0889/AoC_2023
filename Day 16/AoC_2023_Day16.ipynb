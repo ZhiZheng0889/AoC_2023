{
  "cells": [
    {
      "cell_type": "code",
      "source": [
        "import sys\n",
        "sys.setrecursionlimit(1000000)  # Increase recursion limit to handle deep recursion\n",
        "\n",
        "# Read the input grid from the file and store it as a list of lists\n",
        "grid = [list(line) for line in open('/content/AoC_2023_Day16.txt').read().strip().split('\\n')]\n",
        "\n",
        "# Define the four possible directions (East, West, South, North) as (x, y) coordinate changes\n",
        "DIRECTIONS = {\n",
        "    'E': (0, 1),  # Move East (right)\n",
        "    'W': (0, -1), # Move West (left)\n",
        "    'S': (1, 0),  # Move South (down)\n",
        "    'N': (-1, 0)  # Move North (up)\n",
        "}\n",
        "\n",
        "# Define how each type of cell affects the beam's direction\n",
        "MIRRORS = {\n",
        "    '.': {'E': ['E'], 'W': ['W'], 'S': ['S'], 'N': ['N']},\n",
        "    '-': {'E': ['E'], 'W': ['W'], 'S': ['W', 'E'], 'N': ['W', 'E']},\n",
        "    '|': {'E': ['S', 'N'], 'W': ['S', 'N'], 'S': ['S'], 'N': ['N']},\n",
        "    '/': {'E': ['N'], 'W': ['S'], 'S': ['W'], 'N': ['E']},\n",
        "    '\\\\': {'E': ['S'], 'W': ['N'], 'S': ['E'], 'N': ['W']},\n",
        "}\n",
        "\n",
        "def count_energized_tiles(start):\n",
        "    \"\"\"\n",
        "    Count the number of tiles that become energized starting from a given position and direction.\n",
        "    \"\"\"\n",
        "    energized = set()\n",
        "\n",
        "    def illuminate(x, y, direction):\n",
        "        \"\"\"\n",
        "        Recursively illuminate the grid starting from (x, y) in the given direction.\n",
        "        \"\"\"\n",
        "        # If this position and direction have already been processed, return\n",
        "        if (x, y, direction) in energized:\n",
        "            return\n",
        "\n",
        "        # Mark the current position and direction as energized\n",
        "        energized.add((x, y, direction))\n",
        "\n",
        "        # Get the type of cell at the current position\n",
        "        cell_type = grid[x][y]\n",
        "\n",
        "        # Determine the new directions based on the cell type and current direction\n",
        "        for new_direction in MIRRORS[cell_type][direction]:\n",
        "            dx, dy = DIRECTIONS[new_direction]\n",
        "            nx, ny = x + dx, y + dy\n",
        "\n",
        "            # Ensure the new position is within grid bounds\n",
        "            if 0 <= nx < len(grid) and 0 <= ny < len(grid[0]):\n",
        "                illuminate(nx, ny, new_direction)\n",
        "\n",
        "    # Start illuminating from the given start position and direction\n",
        "    illuminate(start[0], start[1], start[2])\n",
        "\n",
        "    # Return the number of unique tiles that were energized\n",
        "    return len(set((x, y) for x, y, _ in energized))\n",
        "\n",
        "# Generate all possible start positions and directions for testing\n",
        "test_positions = []\n",
        "for x in range(len(grid)):\n",
        "    test_positions.append((x, 0, 'E'))  # Start from left edge moving East\n",
        "    test_positions.append((x, len(grid[0]) - 1, 'W'))  # Start from right edge moving West\n",
        "\n",
        "for y in range(len(grid[0])):\n",
        "    test_positions.append((0, y, 'S'))  # Start from top edge moving South\n",
        "    test_positions.append((len(grid) - 1, y, 'N'))  # Start from bottom edge moving North\n",
        "\n",
        "# Print the result of starting the beam from the top-left corner (part 1)\n",
        "result_part1 = count_energized_tiles((0, 0, 'E'))\n",
        "print(f\"Part 1: Number of energized tiles starting from top-left corner: {result_part1}\")\n",
        "\n",
        "# Find the maximum number of energized tiles from any possible start position (part 2)\n",
        "max_energized_tiles = max(count_energized_tiles(test) for test in test_positions)\n",
        "print(f\"Part 2: Maximum number of energized tiles from any start position: {max_energized_tiles}\")\n"
      ],
      "metadata": {
        "colab": {
          "base_uri": "https://localhost:8080/"
        },
        "id": "_OCOPEOfuH7X",
        "outputId": "c2839569-acf7-45f2-c49f-8ce484cee8e4"
      },
      "execution_count": 5,
      "outputs": [
        {
          "output_type": "stream",
          "name": "stdout",
          "text": [
            "Part 1: Number of energized tiles starting from top-left corner: 7046\n",
            "Part 2: Maximum number of energized tiles from any start position: 7313\n"
          ]
        }
      ]
    },
    {
      "cell_type": "markdown",
      "source": [],
      "metadata": {
        "id": "G-xKu0260bEq"
      }
    }
  ],
  "metadata": {
    "colab": {
      "provenance": []
    },
    "kernelspec": {
      "display_name": "Python 3",
      "name": "python3"
    },
    "language_info": {
      "name": "python"
    }
  },
  "nbformat": 4,
  "nbformat_minor": 0
}