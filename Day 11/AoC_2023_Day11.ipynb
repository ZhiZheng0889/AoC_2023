{
  "cells": [
    {
      "cell_type": "code",
      "source": [
        "import numpy as np\n",
        "from itertools import combinations\n",
        "\n",
        "def read_input(file_path):\n",
        "    \"\"\"\n",
        "    Reads the input file and converts it into a grid where '#' is represented as 1 and '.' as 0.\n",
        "    \"\"\"\n",
        "    with open(file_path) as f:\n",
        "        lines = [line.strip() for line in f]\n",
        "    grid = np.array([[1 if char == '#' else 0 for char in line] for line in lines], dtype=int)\n",
        "    return grid\n",
        "\n",
        "def calculate_manhattan_distance(point_a, point_b):\n",
        "    \"\"\"\n",
        "    Calculates the Manhattan distance between two points.\n",
        "    \"\"\"\n",
        "    x1, y1 = point_a\n",
        "    x2, y2 = point_b\n",
        "    return abs(x2 - x1) + abs(y2 - y1)\n",
        "\n",
        "def find_galaxies_positions(grid):\n",
        "    \"\"\"\n",
        "    Finds the positions of galaxies (represented by 1s) in the grid.\n",
        "    \"\"\"\n",
        "    return [(col, row) for row, line in enumerate(grid) for col, value in enumerate(line) if value == 1]\n",
        "\n",
        "def expand_galaxy_positions(grid, expansion_factor):\n",
        "    \"\"\"\n",
        "    Expands the positions of galaxies based on the expansion factor.\n",
        "    Empty rows and columns in the original grid are expanded by the given factor.\n",
        "    \"\"\"\n",
        "    galaxy_positions = find_galaxies_positions(grid)\n",
        "    empty_rows = [row for row, line in enumerate(grid) if not np.any(line)]\n",
        "    empty_columns = [col for col in range(grid.shape[1]) if not np.any(grid[:, col])]\n",
        "\n",
        "    expanded_positions = []\n",
        "    for x, y in galaxy_positions:\n",
        "        expanded_x = x + sum(1 for col in empty_columns if col < x) * (expansion_factor - 1)\n",
        "        expanded_y = y + sum(1 for row in empty_rows if row < y) * (expansion_factor - 1)\n",
        "        expanded_positions.append((expanded_x, expanded_y))\n",
        "\n",
        "    return expanded_positions\n",
        "\n",
        "def calculate_total_distance(file_path, expansion_factor):\n",
        "    \"\"\"\n",
        "    Calculates the total Manhattan distance between all pairs of galaxies after expanding the grid.\n",
        "    \"\"\"\n",
        "    grid = read_input(file_path)\n",
        "    expanded_positions = expand_galaxy_positions(grid, expansion_factor)\n",
        "    total_distance = sum(calculate_manhattan_distance(a, b) for a, b in combinations(expanded_positions, 2))\n",
        "    return total_distance\n",
        "\n",
        "# Part 1: Expansion factor of 2\n",
        "part1_result = calculate_total_distance(\"/content/AoC_2023_Day11.txt\", expansion_factor=2)\n",
        "print(\"Part 1:\", part1_result)\n",
        "\n",
        "# Part 2: Expansion factor of 1,000,000\n",
        "part2_result = calculate_total_distance(\"/content/AoC_2023_Day11.txt\", expansion_factor=1_000_000)\n",
        "print(\"Part 2:\", part2_result)\n"
      ],
      "metadata": {
        "colab": {
          "base_uri": "https://localhost:8080/"
        },
        "id": "7p689mb_81fO",
        "outputId": "19127104-53a1-456c-ea69-3d32da9a1722"
      },
      "execution_count": 11,
      "outputs": [
        {
          "output_type": "stream",
          "name": "stdout",
          "text": [
            "Part 1: 9974721\n",
            "Part 2: 702770569197\n"
          ]
        }
      ]
    }
  ],
  "metadata": {
    "colab": {
      "provenance": []
    },
    "kernelspec": {
      "display_name": "Python 3",
      "name": "python3"
    },
    "language_info": {
      "name": "python"
    }
  },
  "nbformat": 4,
  "nbformat_minor": 0
}