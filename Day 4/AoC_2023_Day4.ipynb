{
  "nbformat": 4,
  "nbformat_minor": 0,
  "metadata": {
    "colab": {
      "provenance": []
    },
    "kernelspec": {
      "name": "python3",
      "display_name": "Python 3"
    },
    "language_info": {
      "name": "python"
    }
  },
  "cells": [
    {
      "cell_type": "code",
      "source": [
        "# Read the input file\n",
        "with open(\"/content/AoC_2023_Day4.txt\") as file:\n",
        "    lines = file.readlines()\n",
        "\n",
        "# Initialize variables\n",
        "total_points = 0\n",
        "cards = [1] * len(lines)\n",
        "\n",
        "# Process each line in the input\n",
        "for index, line in enumerate(lines):\n",
        "    _, data = line.split(\":\")\n",
        "    a, b = data.split(\"|\")\n",
        "\n",
        "    # Convert the strings to sets for intersection\n",
        "    a_set, b_set = set(a.split()), set(b.split())\n",
        "    matches = len(a_set & b_set)  # Find the number of matching numbers\n",
        "\n",
        "    # Calculate points for Part 1\n",
        "    if matches > 0:\n",
        "        total_points += 2 ** (matches - 1)\n",
        "\n",
        "    # Handle the recursive card duplication for Part 2\n",
        "    if matches > 0 and index + matches < len(cards):\n",
        "        cards[index + 1: index + matches + 1] = [x + cards[index] for x in cards[index + 1: index + matches + 1]]\n",
        "\n",
        "# Output the results\n",
        "print(total_points, sum(cards))\n"
      ],
      "metadata": {
        "colab": {
          "base_uri": "https://localhost:8080/"
        },
        "id": "y4cn8j1wy1il",
        "outputId": "3a2ca741-624d-43cc-ffa8-dcf3b40e3fa3"
      },
      "execution_count": 12,
      "outputs": [
        {
          "output_type": "stream",
          "name": "stdout",
          "text": [
            "20829 12648035\n"
          ]
        }
      ]
    },
    {
      "cell_type": "code",
      "source": [
        "# Scratchcards Puzzle Solution\n",
        "\n",
        "## Overview\n",
        "This Python script solves the Advent of Code 2023 Day 4 puzzle, where the task is to calculate the total points from a set of scratchcards and determine the total number of scratchcards after accounting for recursive winnings.\n",
        "\n",
        "## Script Structure\n",
        "\n",
        "### 1. **Input Handling**\n",
        "   - The script reads the input data from a file named `AoC_2023_Day4.txt`, where each line represents a scratchcard.\n",
        "   - Each line contains two parts separated by a colon (`:`): the card information is split into two lists separated by a vertical bar (`|`). The first list contains the \"winning numbers,\" and the second list contains the \"numbers you have.\"\n",
        "\n",
        "### 2. **Initialization**\n",
        "   - **`total_points`**: This variable stores the total points calculated from the scratchcards (Part 1 of the puzzle).\n",
        "   - **`cards`**: A list initialized with 1 for each scratchcard, representing the number of instances of each scratchcard.\n",
        "\n",
        "### 3. **Processing Each Scratchcard**\n",
        "   - The script iterates over each line from the input file.\n",
        "   - For each scratchcard:\n",
        "     - The \"winning numbers\" and \"numbers you have\" are extracted and converted to sets.\n",
        "     - The number of matching numbers (`matches`) is determined by computing the intersection of the two sets.\n",
        "\n",
        "### 4. **Points Calculation (Part 1)**\n",
        "   - If there are matching numbers, the script calculates the points for the scratchcard based on the formula: `2 ** (matches - 1)`.\n",
        "   - These points are added to `total_points`.\n",
        "\n",
        "### 5. **Handling Recursive Scratchcard Winnings (Part 2)**\n",
        "   - For each scratchcard, if there are matching numbers, the script updates the `cards` list to account for the additional copies of scratchcards won based on the number of matches.\n",
        "\n",
        "### 6. **Output**\n",
        "   - The script prints the total points (`total_points`) and the sum of all the values in the `cards` list, which represents the total number of scratchcards after processing all recursive winnings.\n",
        "\n",
        "## Detailed Code Explanation\n",
        "\n",
        "1. **Input Handling**:\n",
        "   - The script reads all lines from the input file and stores them in the `lines` list.\n",
        "\n",
        "2. **Initialization**:\n",
        "   - `total_points`: Tracks the accumulated points based on the matching numbers in each scratchcard.\n",
        "   - `cards`: A list where each element starts at 1, representing the initial count of each scratchcard.\n",
        "\n",
        "3. **Processing Each Scratchcard**:\n",
        "   - The script splits each line into relevant parts, converts the winning numbers and the numbers you have into sets, and calculates the number of matches.\n",
        "\n",
        "4. **Points Calculation (Part 1)**:\n",
        "   - Points are calculated based on the number of matches. If there are any matches, the points are calculated as `2 ** (matches - 1)` and added to `total_points`.\n",
        "\n",
        "5. **Handling Recursive Scratchcard Winnings (Part 2)**:\n",
        "   - This section updates the `cards` list to account for additional scratchcards won due to the matches. It ensures that the correct number of cards are duplicated recursively.\n",
        "\n",
        "6. **Output**:\n",
        "   - Finally, the script prints the total points and the total number of scratchcards after processing all recursive winnings.\n",
        "\n",
        "## Usage\n",
        "\n",
        "- Place the input file `AoC_2023_Day4.txt` in the same directory as the script.\n",
        "- Run the script in a Python environment.\n",
        "- The script will output two numbers:\n",
        "  - The total points from the scratchcards.\n",
        "  - The total number of scratchcards after accounting for all recursive winnings.\n",
        "\n",
        "## Notes\n",
        "\n",
        "- Ensure that the input file is correctly formatted as expected by the script.\n",
        "- The script handles the entire process efficiently by minimizing redundant operations and optimizing the use of data structures.\n"
      ],
      "metadata": {
        "id": "rPeJYWw-zJJK",
        "outputId": "1cfdf869-cf4c-441e-df16-d63e3f602361",
        "colab": {
          "base_uri": "https://localhost:8080/",
          "height": 124
        }
      },
      "execution_count": 14,
      "outputs": [
        {
          "output_type": "error",
          "ename": "SyntaxError",
          "evalue": "invalid syntax (<ipython-input-14-bd6cd2e63e6c>, line 4)",
          "traceback": [
            "\u001b[0;36m  File \u001b[0;32m\"<ipython-input-14-bd6cd2e63e6c>\"\u001b[0;36m, line \u001b[0;32m4\u001b[0m\n\u001b[0;31m    This Python script solves the Advent of Code 2023 Day 4 puzzle, where the task is to calculate the total points from a set of scratchcards and determine the total number of scratchcards after accounting for recursive winnings.\u001b[0m\n\u001b[0m         ^\u001b[0m\n\u001b[0;31mSyntaxError\u001b[0m\u001b[0;31m:\u001b[0m invalid syntax\n"
          ]
        }
      ]
    }
  ]
}