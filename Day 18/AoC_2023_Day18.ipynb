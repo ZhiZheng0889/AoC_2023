{
  "cells": [
    {
      "cell_type": "code",
      "source": [
        "def parse_plan(file_path):\n",
        "    # Read and split the input file into a list of commands\n",
        "    with open(file_path, 'r') as file:\n",
        "        return [line.strip().split() for line in file]\n",
        "\n",
        "# Directions mapping for both part 1 and part 2\n",
        "DIRECTIONS = {\n",
        "    'R': (1, 0), 'D': (0, 1), 'L': (-1, 0), 'U': (0, -1),\n",
        "    '0': (1, 0), '1': (0, 1), '2': (-1, 0), '3': (0, -1)\n",
        "}\n",
        "\n",
        "def calculate_lava_capacity(steps):\n",
        "    position = 0\n",
        "    lava_capacity = 1  # Initialize the lava capacity\n",
        "\n",
        "    for (dx, dy), distance in steps:\n",
        "        position += dx * distance\n",
        "        lava_capacity += dy * distance * position + distance / 2\n",
        "\n",
        "    return int(lava_capacity)\n",
        "\n",
        "def main():\n",
        "    # Load the dig plan\n",
        "    plan = parse_plan('/content/AoC_2023_Day18.txt')\n",
        "\n",
        "    # Part 1: Calculate lava capacity with the original instructions\n",
        "    steps_part1 = [(DIRECTIONS[direction], int(distance)) for direction, distance, _ in plan]\n",
        "    lava_capacity_part1 = calculate_lava_capacity(steps_part1)\n",
        "\n",
        "    # Part 2: Calculate lava capacity with corrected instructions\n",
        "    steps_part2 = [(DIRECTIONS[hex_code[7]], int(hex_code[2:7], 16)) for _, _, hex_code in plan]\n",
        "    lava_capacity_part2 = calculate_lava_capacity(steps_part2)\n",
        "\n",
        "    # Display the results\n",
        "    print(f\"Part 1 - Lava capacity with original instructions: {lava_capacity_part1} cubic meters\")\n",
        "    print(f\"Part 2 - Lava capacity with corrected instructions: {lava_capacity_part2} cubic meters\")\n",
        "\n",
        "# Run the main function\n",
        "if __name__ == \"__main__\":\n",
        "    main()\n"
      ],
      "metadata": {
        "colab": {
          "base_uri": "https://localhost:8080/"
        },
        "id": "xSLszXp30pDV",
        "outputId": "e48ad704-9786-46f3-8092-4c278e81d8b9"
      },
      "execution_count": 14,
      "outputs": [
        {
          "output_type": "stream",
          "name": "stdout",
          "text": [
            "Part 1 - Lava capacity with original instructions: 108909 cubic meters\n",
            "Part 2 - Lava capacity with corrected instructions: 133125706867777 cubic meters\n"
          ]
        }
      ]
    },
    {
      "cell_type": "markdown",
      "source": [],
      "metadata": {
        "id": "G-xKu0260bEq"
      }
    }
  ],
  "metadata": {
    "colab": {
      "provenance": []
    },
    "kernelspec": {
      "display_name": "Python 3",
      "name": "python3"
    },
    "language_info": {
      "name": "python"
    }
  },
  "nbformat": 4,
  "nbformat_minor": 0
}