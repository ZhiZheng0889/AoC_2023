{
  "cells": [
    {
      "cell_type": "code",
      "source": [
        "import itertools\n",
        "\n",
        "# Read input grid from a text file and remove newline characters\n",
        "with open('/content/AoC_2023_Day14.txt') as f:\n",
        "    txt = f.read()\n",
        "\n",
        "grid = txt.replace('\\n', '')\n",
        "\n",
        "# Determine the grid dimensions\n",
        "lines = txt.split('\\n')\n",
        "width = len(lines[0])\n",
        "height = len(lines)\n",
        "\n",
        "def reorder(sub, direction):\n",
        "    \"\"\"\n",
        "    Reorder a substring of rocks based on the tilt direction.\n",
        "    - 'n' or 'w' (north or west): Reversed sorted order.\n",
        "    - 's' or 'e' (south or east): Sorted order.\n",
        "\n",
        "    Args:\n",
        "    sub (str): A substring of rocks and empty spaces.\n",
        "    direction (str): The direction to reorder ('n', 's', 'w', 'e').\n",
        "\n",
        "    Returns:\n",
        "    str: Reordered substring.\n",
        "    \"\"\"\n",
        "    return ''.join(reversed(sorted(sub)) if direction in 'nw' else sorted(sub))\n",
        "\n",
        "def one_direction(grid, direction):\n",
        "    \"\"\"\n",
        "    Tilt the grid in one direction, causing the rocks to move.\n",
        "\n",
        "    Args:\n",
        "    grid (str): A flattened representation of the grid.\n",
        "    direction (str): The direction to tilt ('n', 's', 'w', 'e').\n",
        "\n",
        "    Returns:\n",
        "    str: The new grid state after tilting.\n",
        "    \"\"\"\n",
        "    if direction in 'ns':\n",
        "        # Tilt vertically (north or south)\n",
        "        columns = [grid[i::height] for i in range(width)]  # Extract columns\n",
        "        for i, col in enumerate(columns):\n",
        "            # Reorder each column based on the tilt direction\n",
        "            columns[i] = '#'.join(reorder(sub_col, direction) for sub_col in col.split('#'))\n",
        "        return ''.join(itertools.chain(*zip(*columns)))  # Reconstruct the grid from columns\n",
        "    else:  # 'we' for west or east\n",
        "        # Tilt horizontally (west or east)\n",
        "        rows = [grid[i * width:(i + 1) * width] for i in range(height)]  # Extract rows\n",
        "        for i, row in enumerate(rows):\n",
        "            # Reorder each row based on the tilt direction\n",
        "            rows[i] = '#'.join(reorder(sub_row, direction) for sub_row in row.split('#'))\n",
        "        return ''.join(rows)  # Reconstruct the grid from rows\n",
        "\n",
        "def load(grid):\n",
        "    \"\"\"\n",
        "    Calculate the total load on the north support beams after rocks have settled.\n",
        "\n",
        "    Args:\n",
        "    grid (str): A flattened representation of the grid.\n",
        "\n",
        "    Returns:\n",
        "    int: The total load on the north support beams.\n",
        "    \"\"\"\n",
        "    columns = [grid[i::height] for i in range(width)]  # Extract columns\n",
        "    # Calculate the load by summing up the load contribution of each rock in each column\n",
        "    return sum(\n",
        "        sum(row_index for row_index, cell in zip(range(len(col), 0, -1), col) if cell == 'O')\n",
        "        for col in columns\n",
        "    )\n",
        "\n",
        "# Part 1: Calculate the load after tilting the grid north\n",
        "north_tilted_grid = one_direction(grid, 'n')\n",
        "load_north = load(north_tilted_grid)\n",
        "print(f\"Part 1: The total load on the north support beams after tilting north is {load_north}.\")\n",
        "\n",
        "# Part 2: Calculate the load after running the spin cycle for 1,000,000,000 cycles\n",
        "\n",
        "# Initialize variables for cycle detection\n",
        "cycle = 0\n",
        "goal = 1_000_000_000\n",
        "\n",
        "cycle_cache = {}  # Cache to store grid states and their corresponding cycle number\n",
        "found_cycle = False  # Flag to indicate if a repeating cycle has been found\n",
        "\n",
        "print(\"Part 2: Starting the spin cycle...\")\n",
        "\n",
        "while cycle < goal:\n",
        "    # Perform a full spin cycle (north, west, south, east)\n",
        "    for direction in 'nwse':\n",
        "        grid = one_direction(grid, direction)\n",
        "\n",
        "    cycle += 1  # Increment the cycle count\n",
        "\n",
        "    # Check if the current grid state has been seen before\n",
        "    if not found_cycle and (found_cycle := grid in cycle_cache):\n",
        "        # If a cycle is found, calculate the cycle length\n",
        "        cycle_length = cycle - cycle_cache[grid]\n",
        "        # Fast forward by skipping unnecessary cycles\n",
        "        skipped_cycles = cycle_length * ((goal - cycle) // cycle_length)\n",
        "        cycle += skipped_cycles\n",
        "        print(f\"Cycle detected! Skipping {skipped_cycles} cycles...\")\n",
        "    else:\n",
        "        # If no cycle is found, store the current grid state and cycle number\n",
        "        cycle_cache[grid] = cycle\n",
        "\n",
        "final_load = load(grid)\n",
        "print(f\"Part 2: After 1,000,000,000 cycles, the total load on the north support beams is {final_load}.\")\n"
      ],
      "metadata": {
        "colab": {
          "base_uri": "https://localhost:8080/"
        },
        "id": "U6MGOG453BfS",
        "outputId": "8ba1983a-3fb9-4670-b5c1-b4e5f5efcd1f"
      },
      "execution_count": 34,
      "outputs": [
        {
          "output_type": "stream",
          "name": "stdout",
          "text": [
            "Part 1: The total load on the north support beams after tilting north is 108759.\n",
            "Part 2: Starting the spin cycle...\n",
            "Cycle detected! Skipping 999999823 cycles...\n",
            "Part 2: After 1,000,000,000 cycles, the total load on the north support beams is 89089.\n"
          ]
        }
      ]
    },
    {
      "cell_type": "markdown",
      "source": [],
      "metadata": {
        "id": "G-xKu0260bEq"
      }
    }
  ],
  "metadata": {
    "colab": {
      "provenance": []
    },
    "kernelspec": {
      "display_name": "Python 3",
      "name": "python3"
    },
    "language_info": {
      "name": "python"
    }
  },
  "nbformat": 4,
  "nbformat_minor": 0
}