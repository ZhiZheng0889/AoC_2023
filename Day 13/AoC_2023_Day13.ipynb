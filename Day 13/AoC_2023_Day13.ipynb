{
  "cells": [
    {
      "cell_type": "code",
      "source": [
        "import sys\n",
        "import re\n",
        "from copy import deepcopy\n",
        "from math import gcd\n",
        "from collections import defaultdict, Counter, deque\n",
        "\n",
        "# Load the input data from the file\n",
        "D = open('/content/AoC_2023_Day13.txt').read().strip()\n",
        "L = D.split('\\n')\n",
        "\n",
        "# Function to check the symmetry in a grid and calculate the symmetry score\n",
        "def check_symmetry(grid, part2):\n",
        "    R, C = len(grid), len(grid[0])  # Get the number of rows and columns in the grid\n",
        "    symmetry_score = 0\n",
        "\n",
        "    # Check vertical symmetry\n",
        "    for c in range(C - 1):\n",
        "        badness = 0  # Initialize the count of mismatches\n",
        "        for dc in range(C):\n",
        "            left = c - dc  # Column index on the left side of the symmetry line\n",
        "            right = c + 1 + dc  # Column index on the right side of the symmetry line\n",
        "            if 0 <= left < right < C:  # Ensure indices are within bounds\n",
        "                for r in range(R):  # Iterate through all rows\n",
        "                    if grid[r][left] != grid[r][right]:  # Check if the elements match\n",
        "                        badness += 1  # Increment the mismatch count if they don't match\n",
        "        # If the grid has the desired level of symmetry, update the score\n",
        "        if badness == (1 if part2 else 0):\n",
        "            symmetry_score += c + 1  # Add the position of the symmetry line to the score\n",
        "\n",
        "    # Check horizontal symmetry\n",
        "    for r in range(R - 1):\n",
        "        badness = 0  # Initialize the count of mismatches\n",
        "        for dr in range(R):\n",
        "            up = r - dr  # Row index above the symmetry line\n",
        "            down = r + 1 + dr  # Row index below the symmetry line\n",
        "            if 0 <= up < down < R:  # Ensure indices are within bounds\n",
        "                for c in range(C):  # Iterate through all columns\n",
        "                    if grid[up][c] != grid[down][c]:  # Check if the elements match\n",
        "                        badness += 1  # Increment the mismatch count if they don't match\n",
        "        # If the grid has the desired level of symmetry, update the score\n",
        "        if badness == (1 if part2 else 0):\n",
        "            symmetry_score += 100 * (r + 1)  # Add 100 times the position of the symmetry line to the score\n",
        "\n",
        "    return symmetry_score  # Return the calculated symmetry score\n",
        "\n",
        "# Calculate the total symmetry score for both part 1 and part 2\n",
        "for part2 in [False, True]:  # Loop through part 1 (False) and part 2 (True)\n",
        "    total_score = 0\n",
        "    part_description = \"Part 2\" if part2 else \"Part 1\"\n",
        "    print(f\"\\nCalculating total symmetry score for {part_description}...\")\n",
        "\n",
        "    for i, grid_data in enumerate(D.split('\\n\\n')):  # Split the input data into individual grid patterns\n",
        "        grid = [list(row) for row in grid_data.split('\\n')]  # Convert each pattern to a list of lists\n",
        "        score = check_symmetry(grid, part2)  # Calculate the symmetry score\n",
        "        total_score += score  # Add it to the total score\n",
        "\n",
        "    print(f\"Total symmetry score for {part_description}: {total_score}\\n\")\n"
      ],
      "metadata": {
        "colab": {
          "base_uri": "https://localhost:8080/"
        },
        "id": "vQls980Xyk2A",
        "outputId": "549a6fd4-80a7-4f1f-cd8c-88d4f35dd8ec"
      },
      "execution_count": 10,
      "outputs": [
        {
          "output_type": "stream",
          "name": "stdout",
          "text": [
            "\n",
            "Calculating symmetry score for Part 1...\n",
            "Total symmetry score for Part 1: 35691\n",
            "\n",
            "\n",
            "Calculating symmetry score for Part 2...\n",
            "Total symmetry score for Part 2: 39037\n",
            "\n"
          ]
        }
      ]
    }
  ],
  "metadata": {
    "colab": {
      "provenance": []
    },
    "kernelspec": {
      "display_name": "Python 3",
      "name": "python3"
    },
    "language_info": {
      "name": "python"
    }
  },
  "nbformat": 4,
  "nbformat_minor": 0
}